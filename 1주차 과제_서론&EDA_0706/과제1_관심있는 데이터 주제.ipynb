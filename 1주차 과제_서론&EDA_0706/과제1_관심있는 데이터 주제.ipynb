{
 "cells": [
  {
   "cell_type": "markdown",
   "metadata": {},
   "source": [
    "### 관심있는 데이터 분석 주제 : 게임산업\n",
    "[Free-to-Play Games Dataset](https://www.kaggle.com/datasets/asferzafar/free-to-play-games-dataset)\n",
    "\n",
    "### Free to play games dataset을 선택한 이유\n",
    "\n",
    "세계적으로 게임 산업은 빠르게 성장하고 있으며, 특히 무료로 이용할 수 있는 게임은 접근성이 높아 다양한 연령층과 국가에서 플레이됩니다.\n",
    "\n",
    "이 데이터셋은 제목, 장르, 플랫폼, 출판사, 개발자, 출시일과 같은 게임에 대한 다양한 속성을 포함하기 때문에 다양한 시각에서 분석이 가능합니다.\n",
    " \n",
    "저는 이 데이터 분석을 통해 기업과 소비자, 두가지 입장에서 가질 수 있는 각각의 기대효과를 예상합니다.\n",
    " \n",
    "기업에서는, 게임 트렌드 파악을 통해 시장을 예측하여 이에 따른 비즈니스 전략을 세울 수 있습니다. 또한 맞춤형 게임 추천 시스템을 구축하여 사용자 유치 전략으로도 사용할 수 있습니다.\n",
    "\n",
    "소비자는, 데이터 기반의 맞춤형 게임 추천 시스템으로부터 정보를 제공받음으로써 쉽고 빠르게 자신에게 맞는 게임을 경험해볼 수 있을것입니디.\n",
    "\n"
   ]
  }
 ],
 "metadata": {
  "language_info": {
   "name": "python"
  }
 },
 "nbformat": 4,
 "nbformat_minor": 2
}
